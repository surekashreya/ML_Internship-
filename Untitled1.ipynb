{
 "cells": [
  {
   "cell_type": "code",
   "execution_count": 4,
   "id": "839cb9dc",
   "metadata": {},
   "outputs": [],
   "source": [
    "import numpy as np\n",
    "import pandas as pd"
   ]
  },
  {
   "cell_type": "code",
   "execution_count": 5,
   "id": "fd1b85f3",
   "metadata": {},
   "outputs": [],
   "source": [
    "df=pd.read_excel('C:/Users/shreya sureka/Downloads/skill_data.xlsx')"
   ]
  },
  {
   "cell_type": "code",
   "execution_count": 6,
   "id": "45909e27",
   "metadata": {},
   "outputs": [
    {
     "data": {
      "text/html": [
       "<div>\n",
       "<style scoped>\n",
       "    .dataframe tbody tr th:only-of-type {\n",
       "        vertical-align: middle;\n",
       "    }\n",
       "\n",
       "    .dataframe tbody tr th {\n",
       "        vertical-align: top;\n",
       "    }\n",
       "\n",
       "    .dataframe thead th {\n",
       "        text-align: right;\n",
       "    }\n",
       "</style>\n",
       "<table border=\"1\" class=\"dataframe\">\n",
       "  <thead>\n",
       "    <tr style=\"text-align: right;\">\n",
       "      <th></th>\n",
       "      <th>Name</th>\n",
       "      <th>Skills</th>\n",
       "    </tr>\n",
       "  </thead>\n",
       "  <tbody>\n",
       "    <tr>\n",
       "      <th>0</th>\n",
       "      <td>Maurice Valdez</td>\n",
       "      <td>['reactjs', 'django', 'numpy', 'nodejs', 'html']</td>\n",
       "    </tr>\n",
       "    <tr>\n",
       "      <th>1</th>\n",
       "      <td>Samuel Green</td>\n",
       "      <td>['laravel', 'css', 'laravel']</td>\n",
       "    </tr>\n",
       "    <tr>\n",
       "      <th>2</th>\n",
       "      <td>Michael Rodgers</td>\n",
       "      <td>['css', 'reactjs', 'flask', 'nodejs', 'nodejs']</td>\n",
       "    </tr>\n",
       "    <tr>\n",
       "      <th>3</th>\n",
       "      <td>Lindsey Leach</td>\n",
       "      <td>['nodejs', 'html', 'html', 'reactjs']</td>\n",
       "    </tr>\n",
       "    <tr>\n",
       "      <th>4</th>\n",
       "      <td>Kimberly Hartman</td>\n",
       "      <td>['matpotlib', 'nosql']</td>\n",
       "    </tr>\n",
       "  </tbody>\n",
       "</table>\n",
       "</div>"
      ],
      "text/plain": [
       "               Name                                            Skills\n",
       "0    Maurice Valdez  ['reactjs', 'django', 'numpy', 'nodejs', 'html']\n",
       "1      Samuel Green                     ['laravel', 'css', 'laravel']\n",
       "2   Michael Rodgers   ['css', 'reactjs', 'flask', 'nodejs', 'nodejs']\n",
       "3     Lindsey Leach             ['nodejs', 'html', 'html', 'reactjs']\n",
       "4  Kimberly Hartman                            ['matpotlib', 'nosql']"
      ]
     },
     "execution_count": 6,
     "metadata": {},
     "output_type": "execute_result"
    }
   ],
   "source": [
    "df.head()"
   ]
  },
  {
   "cell_type": "code",
   "execution_count": 7,
   "id": "855f8b3a",
   "metadata": {},
   "outputs": [
    {
     "data": {
      "text/html": [
       "<div>\n",
       "<style scoped>\n",
       "    .dataframe tbody tr th:only-of-type {\n",
       "        vertical-align: middle;\n",
       "    }\n",
       "\n",
       "    .dataframe tbody tr th {\n",
       "        vertical-align: top;\n",
       "    }\n",
       "\n",
       "    .dataframe thead th {\n",
       "        text-align: right;\n",
       "    }\n",
       "</style>\n",
       "<table border=\"1\" class=\"dataframe\">\n",
       "  <thead>\n",
       "    <tr style=\"text-align: right;\">\n",
       "      <th></th>\n",
       "      <th>Name</th>\n",
       "      <th>Skills</th>\n",
       "    </tr>\n",
       "  </thead>\n",
       "  <tbody>\n",
       "    <tr>\n",
       "      <th>count</th>\n",
       "      <td>50</td>\n",
       "      <td>50</td>\n",
       "    </tr>\n",
       "    <tr>\n",
       "      <th>unique</th>\n",
       "      <td>50</td>\n",
       "      <td>48</td>\n",
       "    </tr>\n",
       "    <tr>\n",
       "      <th>top</th>\n",
       "      <td>James Stanton</td>\n",
       "      <td>['matpotlib', 'nosql']</td>\n",
       "    </tr>\n",
       "    <tr>\n",
       "      <th>freq</th>\n",
       "      <td>1</td>\n",
       "      <td>2</td>\n",
       "    </tr>\n",
       "  </tbody>\n",
       "</table>\n",
       "</div>"
      ],
      "text/plain": [
       "                 Name                  Skills\n",
       "count              50                      50\n",
       "unique             50                      48\n",
       "top     James Stanton  ['matpotlib', 'nosql']\n",
       "freq                1                       2"
      ]
     },
     "execution_count": 7,
     "metadata": {},
     "output_type": "execute_result"
    }
   ],
   "source": [
    "df.describe()"
   ]
  },
  {
   "cell_type": "code",
   "execution_count": 8,
   "id": "36335a2c",
   "metadata": {},
   "outputs": [
    {
     "name": "stdout",
     "output_type": "stream",
     "text": [
      "<class 'pandas.core.frame.DataFrame'>\n",
      "RangeIndex: 50 entries, 0 to 49\n",
      "Data columns (total 2 columns):\n",
      " #   Column  Non-Null Count  Dtype \n",
      "---  ------  --------------  ----- \n",
      " 0   Name    50 non-null     object\n",
      " 1   Skills  50 non-null     object\n",
      "dtypes: object(2)\n",
      "memory usage: 928.0+ bytes\n"
     ]
    }
   ],
   "source": [
    "df.info()"
   ]
  },
  {
   "cell_type": "code",
   "execution_count": 9,
   "id": "3b7738c9",
   "metadata": {},
   "outputs": [],
   "source": [
    "    web_devloper_skills= [\n",
    "    'django',\n",
    "    'html',\n",
    "    'css',\n",
    "    'nodejs',\n",
    "    'reactjs',\n",
    "    'nodejs',\n",
    "    'flask',\n",
    "    'laravel'\n",
    "]\n",
    "\n",
    "machine_learning_skills= [\n",
    "    'nosql',\n",
    "    'pandas',\n",
    "    'numpy',\n",
    "    'matpotlib',\n",
    "    'seabron',\n",
    "    'scipy'\n",
    "]\n"
   ]
  },
  {
   "cell_type": "markdown",
   "id": "85fb5532",
   "metadata": {},
   "source": [
    "##### Assigning Web Developer and Machine Learning Developer if count>3 "
   ]
  },
  {
   "cell_type": "code",
   "execution_count": 13,
   "id": "40434136",
   "metadata": {},
   "outputs": [],
   "source": [
    "#func to convert list into string\n",
    "def lst2str(lst):\n",
    "    str0=''\n",
    "    for i in lst:\n",
    "        str0+=str(i)\n",
    "    return str0"
   ]
  },
  {
   "cell_type": "code",
   "execution_count": 53,
   "id": "891fb405",
   "metadata": {},
   "outputs": [],
   "source": [
    "skillLst=[]\n",
    "for data in df.values:\n",
    "    countWeb=0\n",
    "    countML=0\n",
    "   # Name=data[0]\n",
    "   # skills=data[1]\n",
    "    \n",
    "    str1=data[1]\n",
    "    str1=str1.split('\\'')\n",
    "\n",
    "    lst1=list(str1)\n",
    "    lst1=np.unique(lst1)\n",
    "    tempLst=[]\n",
    "    for skill in lst1:\n",
    "        \n",
    "        if(skill in web_devloper_skills):\n",
    "            countWeb+=1\n",
    "        elif(skill in machine_learning_skills):\n",
    "            countML+=1\n",
    "\n",
    "    if(countWeb>=3 or countML>=3):\n",
    "        if(countWeb>=3):\n",
    "            tempLst.append('Web Developer')\n",
    "        if(countML>=3):\n",
    "            tempLst.append('Machine Learning Developer')\n",
    "    else:\n",
    "        tempLst.append('Not Eligible')\n",
    "    skillLst.append(lst2str(tempLst))"
   ]
  },
  {
   "cell_type": "code",
   "execution_count": 54,
   "id": "13efba6c",
   "metadata": {},
   "outputs": [
    {
     "name": "stdout",
     "output_type": "stream",
     "text": [
      "50\n",
      "['Web Developer', 'Not Eligible', 'Web Developer', 'Web Developer', 'Not Eligible', 'Machine Learning Developer', 'Not Eligible', 'Web Developer', 'Not Eligible', 'Web Developer', 'Web Developer', 'Not Eligible', 'Not Eligible', 'Not Eligible', 'Machine Learning Developer', 'Not Eligible', 'Web Developer', 'Not Eligible', 'Web Developer', 'Not Eligible', 'Not Eligible', 'Web Developer', 'Not Eligible', 'Web Developer', 'Machine Learning Developer', 'Not Eligible', 'Web Developer', 'Not Eligible', 'Web Developer', 'Not Eligible', 'Not Eligible', 'Not Eligible', 'Not Eligible', 'Not Eligible', 'Not Eligible', 'Not Eligible', 'Web Developer', 'Machine Learning Developer', 'Not Eligible', 'Not Eligible', 'Not Eligible', 'Web Developer', 'Web Developer', 'Not Eligible', 'Not Eligible', 'Not Eligible', 'Not Eligible', 'Web Developer', 'Not Eligible', 'Not Eligible']\n"
     ]
    }
   ],
   "source": [
    "print(len(skillLst))\n",
    "print(skillLst)"
   ]
  },
  {
   "cell_type": "code",
   "execution_count": 55,
   "id": "88055d6a",
   "metadata": {},
   "outputs": [],
   "source": [
    "df['Designation']=skillLst"
   ]
  },
  {
   "cell_type": "code",
   "execution_count": 56,
   "id": "61b7dcc5",
   "metadata": {},
   "outputs": [
    {
     "data": {
      "text/html": [
       "<div>\n",
       "<style scoped>\n",
       "    .dataframe tbody tr th:only-of-type {\n",
       "        vertical-align: middle;\n",
       "    }\n",
       "\n",
       "    .dataframe tbody tr th {\n",
       "        vertical-align: top;\n",
       "    }\n",
       "\n",
       "    .dataframe thead th {\n",
       "        text-align: right;\n",
       "    }\n",
       "</style>\n",
       "<table border=\"1\" class=\"dataframe\">\n",
       "  <thead>\n",
       "    <tr style=\"text-align: right;\">\n",
       "      <th></th>\n",
       "      <th>Name</th>\n",
       "      <th>Skills</th>\n",
       "      <th>Designation</th>\n",
       "    </tr>\n",
       "  </thead>\n",
       "  <tbody>\n",
       "    <tr>\n",
       "      <th>0</th>\n",
       "      <td>Maurice Valdez</td>\n",
       "      <td>['reactjs', 'django', 'numpy', 'nodejs', 'html']</td>\n",
       "      <td>Web Developer</td>\n",
       "    </tr>\n",
       "    <tr>\n",
       "      <th>1</th>\n",
       "      <td>Samuel Green</td>\n",
       "      <td>['laravel', 'css', 'laravel']</td>\n",
       "      <td>Not Eligible</td>\n",
       "    </tr>\n",
       "    <tr>\n",
       "      <th>2</th>\n",
       "      <td>Michael Rodgers</td>\n",
       "      <td>['css', 'reactjs', 'flask', 'nodejs', 'nodejs']</td>\n",
       "      <td>Web Developer</td>\n",
       "    </tr>\n",
       "    <tr>\n",
       "      <th>3</th>\n",
       "      <td>Lindsey Leach</td>\n",
       "      <td>['nodejs', 'html', 'html', 'reactjs']</td>\n",
       "      <td>Web Developer</td>\n",
       "    </tr>\n",
       "    <tr>\n",
       "      <th>4</th>\n",
       "      <td>Kimberly Hartman</td>\n",
       "      <td>['matpotlib', 'nosql']</td>\n",
       "      <td>Not Eligible</td>\n",
       "    </tr>\n",
       "    <tr>\n",
       "      <th>5</th>\n",
       "      <td>Benjamin Garcia</td>\n",
       "      <td>['numpy', 'scipy', 'matpotlib', 'nosql', 'node...</td>\n",
       "      <td>Machine Learning Developer</td>\n",
       "    </tr>\n",
       "    <tr>\n",
       "      <th>6</th>\n",
       "      <td>Ernest Brown</td>\n",
       "      <td>['scipy', 'pandas', 'nodejs']</td>\n",
       "      <td>Not Eligible</td>\n",
       "    </tr>\n",
       "    <tr>\n",
       "      <th>7</th>\n",
       "      <td>Stephen Evans Jr.</td>\n",
       "      <td>['seabron', 'laravel', 'nodejs', 'css', 'nosql']</td>\n",
       "      <td>Web Developer</td>\n",
       "    </tr>\n",
       "    <tr>\n",
       "      <th>8</th>\n",
       "      <td>Alan Rodriguez</td>\n",
       "      <td>['reactjs', 'nodejs', 'nodejs', 'nosql']</td>\n",
       "      <td>Not Eligible</td>\n",
       "    </tr>\n",
       "    <tr>\n",
       "      <th>9</th>\n",
       "      <td>Emily Barnes</td>\n",
       "      <td>['html', 'html', 'matpotlib', 'laravel', 'css'...</td>\n",
       "      <td>Web Developer</td>\n",
       "    </tr>\n",
       "    <tr>\n",
       "      <th>10</th>\n",
       "      <td>Christopher Kline</td>\n",
       "      <td>['laravel', 'html', 'html', 'nodejs', 'nodejs']</td>\n",
       "      <td>Web Developer</td>\n",
       "    </tr>\n",
       "    <tr>\n",
       "      <th>11</th>\n",
       "      <td>Melissa Greer</td>\n",
       "      <td>['flask', 'seabron', 'scipy']</td>\n",
       "      <td>Not Eligible</td>\n",
       "    </tr>\n",
       "    <tr>\n",
       "      <th>12</th>\n",
       "      <td>Paul Evans</td>\n",
       "      <td>['nodejs', 'nosql', 'laravel']</td>\n",
       "      <td>Not Eligible</td>\n",
       "    </tr>\n",
       "    <tr>\n",
       "      <th>13</th>\n",
       "      <td>Lisa Perry</td>\n",
       "      <td>['django', 'numpy', 'scipy', 'html']</td>\n",
       "      <td>Not Eligible</td>\n",
       "    </tr>\n",
       "    <tr>\n",
       "      <th>14</th>\n",
       "      <td>Wendy Torres</td>\n",
       "      <td>['flask', 'reactjs', 'pandas', 'scipy', 'matpo...</td>\n",
       "      <td>Machine Learning Developer</td>\n",
       "    </tr>\n",
       "    <tr>\n",
       "      <th>15</th>\n",
       "      <td>Todd Patterson</td>\n",
       "      <td>['nodejs', 'pandas']</td>\n",
       "      <td>Not Eligible</td>\n",
       "    </tr>\n",
       "    <tr>\n",
       "      <th>16</th>\n",
       "      <td>Aaron Mercado</td>\n",
       "      <td>['flask', 'nodejs', 'css', 'numpy', 'django', ...</td>\n",
       "      <td>Web Developer</td>\n",
       "    </tr>\n",
       "    <tr>\n",
       "      <th>17</th>\n",
       "      <td>Patrick Camacho</td>\n",
       "      <td>['nodejs', 'matpotlib', 'html', 'matpotlib']</td>\n",
       "      <td>Not Eligible</td>\n",
       "    </tr>\n",
       "    <tr>\n",
       "      <th>18</th>\n",
       "      <td>Aaron Sherman</td>\n",
       "      <td>['seabron', 'nodejs', 'scipy', 'nodejs', 'html...</td>\n",
       "      <td>Web Developer</td>\n",
       "    </tr>\n",
       "    <tr>\n",
       "      <th>19</th>\n",
       "      <td>Gwendolyn Pearson</td>\n",
       "      <td>['pandas', 'seabron', 'flask']</td>\n",
       "      <td>Not Eligible</td>\n",
       "    </tr>\n",
       "  </tbody>\n",
       "</table>\n",
       "</div>"
      ],
      "text/plain": [
       "                 Name                                             Skills  \\\n",
       "0      Maurice Valdez   ['reactjs', 'django', 'numpy', 'nodejs', 'html']   \n",
       "1        Samuel Green                      ['laravel', 'css', 'laravel']   \n",
       "2     Michael Rodgers    ['css', 'reactjs', 'flask', 'nodejs', 'nodejs']   \n",
       "3       Lindsey Leach              ['nodejs', 'html', 'html', 'reactjs']   \n",
       "4    Kimberly Hartman                             ['matpotlib', 'nosql']   \n",
       "5     Benjamin Garcia  ['numpy', 'scipy', 'matpotlib', 'nosql', 'node...   \n",
       "6        Ernest Brown                      ['scipy', 'pandas', 'nodejs']   \n",
       "7   Stephen Evans Jr.   ['seabron', 'laravel', 'nodejs', 'css', 'nosql']   \n",
       "8      Alan Rodriguez           ['reactjs', 'nodejs', 'nodejs', 'nosql']   \n",
       "9        Emily Barnes  ['html', 'html', 'matpotlib', 'laravel', 'css'...   \n",
       "10  Christopher Kline    ['laravel', 'html', 'html', 'nodejs', 'nodejs']   \n",
       "11      Melissa Greer                      ['flask', 'seabron', 'scipy']   \n",
       "12         Paul Evans                     ['nodejs', 'nosql', 'laravel']   \n",
       "13         Lisa Perry               ['django', 'numpy', 'scipy', 'html']   \n",
       "14       Wendy Torres  ['flask', 'reactjs', 'pandas', 'scipy', 'matpo...   \n",
       "15     Todd Patterson                               ['nodejs', 'pandas']   \n",
       "16      Aaron Mercado  ['flask', 'nodejs', 'css', 'numpy', 'django', ...   \n",
       "17    Patrick Camacho       ['nodejs', 'matpotlib', 'html', 'matpotlib']   \n",
       "18      Aaron Sherman  ['seabron', 'nodejs', 'scipy', 'nodejs', 'html...   \n",
       "19  Gwendolyn Pearson                     ['pandas', 'seabron', 'flask']   \n",
       "\n",
       "                   Designation  \n",
       "0                Web Developer  \n",
       "1                 Not Eligible  \n",
       "2                Web Developer  \n",
       "3                Web Developer  \n",
       "4                 Not Eligible  \n",
       "5   Machine Learning Developer  \n",
       "6                 Not Eligible  \n",
       "7                Web Developer  \n",
       "8                 Not Eligible  \n",
       "9                Web Developer  \n",
       "10               Web Developer  \n",
       "11                Not Eligible  \n",
       "12                Not Eligible  \n",
       "13                Not Eligible  \n",
       "14  Machine Learning Developer  \n",
       "15                Not Eligible  \n",
       "16               Web Developer  \n",
       "17                Not Eligible  \n",
       "18               Web Developer  \n",
       "19                Not Eligible  "
      ]
     },
     "execution_count": 56,
     "metadata": {},
     "output_type": "execute_result"
    }
   ],
   "source": [
    "df.head(20)"
   ]
  },
  {
   "cell_type": "code",
   "execution_count": 57,
   "id": "c64a5a3c",
   "metadata": {},
   "outputs": [
    {
     "data": {
      "text/plain": [
       "Not Eligible                  30\n",
       "Web Developer                 16\n",
       "Machine Learning Developer     4\n",
       "Name: Designation, dtype: int64"
      ]
     },
     "execution_count": 57,
     "metadata": {},
     "output_type": "execute_result"
    }
   ],
   "source": [
    "df['Designation'].value_counts()"
   ]
  },
  {
   "cell_type": "code",
   "execution_count": 58,
   "id": "e2e7652f",
   "metadata": {},
   "outputs": [
    {
     "data": {
      "text/plain": [
       "['matpotlib', 'nosql']                                              2\n",
       "['nodejs', 'pandas']                                                2\n",
       "['scipy', 'pandas', 'nodejs']                                       1\n",
       "['matpotlib', 'seabron', 'nodejs', 'matpotlib', 'flask']            1\n",
       "['seabron', 'laravel', 'nodejs', 'css', 'nosql']                    1\n",
       "['pandas', 'laravel']                                               1\n",
       "['html', 'nodejs']                                                  1\n",
       "['laravel', 'matpotlib', 'scipy', 'reactjs', 'laravel', 'numpy']    1\n",
       "['laravel', 'html', 'html', 'nodejs', 'nodejs']                     1\n",
       "['numpy', 'scipy', 'nodejs', 'numpy', 'css', 'numpy']               1\n",
       "['numpy', 'scipy', 'matpotlib', 'nosql', 'nodejs']                  1\n",
       "['flask', 'nodejs', 'css', 'numpy', 'django', 'laravel']            1\n",
       "['nodejs', 'flask', 'scipy', 'pandas']                              1\n",
       "['seabron', 'html', 'numpy']                                        1\n",
       "['css', 'nodejs', 'flask', 'nosql', 'reactjs']                      1\n",
       "['reactjs', 'nodejs', 'nodejs', 'nosql']                            1\n",
       "['nodejs', 'matpotlib', 'html', 'matpotlib']                        1\n",
       "['nodejs', 'css']                                                   1\n",
       "['html', 'html', 'css', 'nodejs', 'seabron', 'pandas']              1\n",
       "['reactjs', 'nodejs', 'django']                                     1\n",
       "['nosql', 'html', 'css', 'scipy']                                   1\n",
       "['django', 'nodejs']                                                1\n",
       "['flask', 'reactjs', 'pandas', 'scipy', 'matpotlib']                1\n",
       "['nosql', 'reactjs', 'matpotlib', 'laravel']                        1\n",
       "['flask', 'seabron', 'scipy']                                       1\n",
       "['numpy', 'reactjs']                                                1\n",
       "['seabron', 'nodejs', 'scipy', 'nodejs', 'html', 'reactjs']         1\n",
       "['nosql', 'matpotlib', 'matpotlib', 'django', 'reactjs']            1\n",
       "['nodejs', 'laravel', 'css', 'reactjs', 'nosql', 'flask']           1\n",
       "['laravel', 'css', 'laravel']                                       1\n",
       "['reactjs', 'django', 'numpy', 'nodejs', 'html']                    1\n",
       "['reactjs', 'flask', 'matpotlib', 'django', 'css', 'nodejs']        1\n",
       "['reactjs', 'pandas', 'html', 'flask']                              1\n",
       "['laravel', 'css']                                                  1\n",
       "['numpy', 'nodejs', 'flask', 'nosql', 'nodejs']                     1\n",
       "['html', 'html', 'matpotlib', 'laravel', 'css', 'nodejs']           1\n",
       "['nosql', 'css']                                                    1\n",
       "['css', 'reactjs', 'flask', 'nodejs', 'nodejs']                     1\n",
       "['nodejs', 'flask', 'scipy', 'matpotlib', 'nodejs']                 1\n",
       "['css', 'nodejs', 'django', 'nodejs', 'matpotlib']                  1\n",
       "['numpy', 'numpy', 'seabron']                                       1\n",
       "['scipy', 'nosql', 'css', 'laravel', 'laravel']                     1\n",
       "['laravel', 'nodejs', 'nosql', 'django', 'matpotlib']               1\n",
       "['nodejs', 'nosql', 'laravel']                                      1\n",
       "['seabron', 'nodejs', 'pandas', 'nosql']                            1\n",
       "['django', 'numpy', 'scipy', 'html']                                1\n",
       "['nodejs', 'html', 'html', 'reactjs']                               1\n",
       "['pandas', 'seabron', 'flask']                                      1\n",
       "Name: Skills, dtype: int64"
      ]
     },
     "execution_count": 58,
     "metadata": {},
     "output_type": "execute_result"
    }
   ],
   "source": [
    "df['Skills'].value_counts()"
   ]
  },
  {
   "cell_type": "code",
   "execution_count": 60,
   "id": "0c3b9d04",
   "metadata": {},
   "outputs": [],
   "source": [
    "pd.DataFrame(df, columns=['Name','Skills','Designation']).to_excel('C:/Users/shreya sureka/Downloads/Designation.xlsx')"
   ]
  },
  {
   "cell_type": "code",
   "execution_count": null,
   "id": "ae43a835",
   "metadata": {},
   "outputs": [],
   "source": []
  },
  {
   "cell_type": "code",
   "execution_count": null,
   "id": "ea4ac10e",
   "metadata": {},
   "outputs": [],
   "source": []
  }
 ],
 "metadata": {
  "kernelspec": {
   "display_name": "Python 3",
   "language": "python",
   "name": "python3"
  },
  "language_info": {
   "codemirror_mode": {
    "name": "ipython",
    "version": 3
   },
   "file_extension": ".py",
   "mimetype": "text/x-python",
   "name": "python",
   "nbconvert_exporter": "python",
   "pygments_lexer": "ipython3",
   "version": "3.8.3"
  }
 },
 "nbformat": 4,
 "nbformat_minor": 5
}
